{
 "metadata": {
  "name": "",
  "signature": "sha256:90a5c7bcc496503c3a99f566fa99cdb6f10cff2c950312d3f1dad0317446fab8"
 },
 "nbformat": 3,
 "nbformat_minor": 0,
 "worksheets": [
  {
   "cells": [
    {
     "cell_type": "code",
     "collapsed": false,
     "input": [
      "import numpy as np\n",
      "from scipy.stats import t, ttest_rel, binom_test, norm\n",
      "from __future__ import division"
     ],
     "language": "python",
     "metadata": {},
     "outputs": [],
     "prompt_number": 46
    },
    {
     "cell_type": "code",
     "collapsed": false,
     "input": [
      "#Question 1\n",
      "base_line = [140, 138, 150, 148, 135]\n",
      "week_2 = [132, 135, 151, 146, 130]\n",
      "\n",
      "t_test, p_value = ttest_rel(base_line, week_2)\n",
      "print round(p_value, 3)"
     ],
     "language": "python",
     "metadata": {},
     "outputs": [
      {
       "output_type": "stream",
       "stream": "stdout",
       "text": [
        "0.087\n"
       ]
      }
     ],
     "prompt_number": 11
    },
    {
     "cell_type": "code",
     "collapsed": false,
     "input": [
      "##Question 2\n",
      "n = 9\n",
      "x_bar = 1100\n",
      "sigma = 30\n",
      "alpha = 0.05\n",
      "\n",
      "intervals = x_bar + np.array([-1, 1]) * t.ppf(1 - alpha/2, n -1) * sigma / np.sqrt(n)\n",
      "np.round(intervals, 0)"
     ],
     "language": "python",
     "metadata": {},
     "outputs": [
      {
       "metadata": {},
       "output_type": "pyout",
       "prompt_number": 15,
       "text": [
        "array([ 1077.,  1123.])"
       ]
      }
     ],
     "prompt_number": 15
    },
    {
     "cell_type": "code",
     "collapsed": false,
     "input": [
      "#Question 3\n",
      "p_value = binom_test(3, 4, 0.5) / 2\n",
      "round(p_value, 2)"
     ],
     "language": "python",
     "metadata": {},
     "outputs": [
      {
       "metadata": {},
       "output_type": "pyout",
       "prompt_number": 24,
       "text": [
        "0.31"
       ]
      }
     ],
     "prompt_number": 24
    },
    {
     "cell_type": "code",
     "collapsed": false,
     "input": [
      "#Question 4\n",
      "p=1/100\n",
      "pr=10/1787\n",
      "n=1787\n",
      "z = (p - pr) / sqrt(p * (1-p)/n)\n",
      "prob = norm.cdf( -z )\n",
      "round(prob, 2)"
     ],
     "language": "python",
     "metadata": {},
     "outputs": [
      {
       "metadata": {},
       "output_type": "pyout",
       "prompt_number": 61,
       "text": [
        "0.03"
       ]
      }
     ],
     "prompt_number": 61
    },
    {
     "cell_type": "code",
     "collapsed": false,
     "input": [],
     "language": "python",
     "metadata": {},
     "outputs": []
    }
   ],
   "metadata": {}
  }
 ]
}