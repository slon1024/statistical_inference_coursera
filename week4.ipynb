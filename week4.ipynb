{
 "metadata": {
  "name": "",
  "signature": "sha256:10caab28fced9eebf382d367448e73d21f5ee3ab24c565a362723cfd34957e57"
 },
 "nbformat": 3,
 "nbformat_minor": 0,
 "worksheets": [
  {
   "cells": [
    {
     "cell_type": "code",
     "collapsed": false,
     "input": [
      "import numpy as np\n",
      "from scipy.stats import t, ttest_rel"
     ],
     "language": "python",
     "metadata": {},
     "outputs": [],
     "prompt_number": 10
    },
    {
     "cell_type": "code",
     "collapsed": false,
     "input": [
      "#Question 1\n",
      "base_line = [140, 138, 150, 148, 135]\n",
      "week_2 = [132, 135, 151, 146, 130]\n",
      "\n",
      "t_test, p_value = ttest_rel(base_line, week_2)\n",
      "print round(p_value, 3)"
     ],
     "language": "python",
     "metadata": {},
     "outputs": [
      {
       "output_type": "stream",
       "stream": "stdout",
       "text": [
        "0.087\n"
       ]
      }
     ],
     "prompt_number": 11
    },
    {
     "cell_type": "code",
     "collapsed": false,
     "input": [
      "n = 9\n",
      "x_bar = 1100\n",
      "sigma = 30\n",
      "alpha = 0.05\n",
      "\n",
      "intervals = x_bar + np.array([-1, 1]) * t.ppf(1 - alpha/2, n -1) * sigma / np.sqrt(n)\n",
      "np.round(intervals, 0)"
     ],
     "language": "python",
     "metadata": {},
     "outputs": [
      {
       "metadata": {},
       "output_type": "pyout",
       "prompt_number": 15,
       "text": [
        "array([ 1077.,  1123.])"
       ]
      }
     ],
     "prompt_number": 15
    },
    {
     "cell_type": "code",
     "collapsed": false,
     "input": [],
     "language": "python",
     "metadata": {},
     "outputs": []
    }
   ],
   "metadata": {}
  }
 ]
}