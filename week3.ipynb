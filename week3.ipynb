{
 "metadata": {
  "name": "",
  "signature": "sha256:2b9a3e221d222dfa49edaf6f9561dccecf350aca63a2ea15f2d68aa90f645749"
 },
 "nbformat": 3,
 "nbformat_minor": 0,
 "worksheets": [
  {
   "cells": [
    {
     "cell_type": "code",
     "collapsed": false,
     "input": [
      "from scipy.stats import t\n",
      "import numpy as np\n",
      "from __future__ import division\n",
      "\n",
      "def t_val(alpha, df):\n",
      "    return t.ppf(1 - alpha/2, df)\n",
      "\n",
      "##https://en.wikipedia.org/wiki/Student%27s_t-test#Equal_or_unequal_sample_sizes.2C_equal_variance\n",
      "def calc_sigma_xy(nx, ny, var_x, var_y):\n",
      "    var_xy = ( (nx - 1)*var_x + (ny - 1)*var_y ) / (nx + ny - 2)\n",
      "    return np.sqrt(var_xy)\n",
      "\n",
      "def confidence_intervals(alpha, nx, ny, sigma_xy):\n",
      "    return np.array([-1, 1]) * t_val(alpha, nx + ny - 2) * sigma_xy * np.sqrt(1/nx + 1/ny)"
     ],
     "language": "python",
     "metadata": {},
     "outputs": [],
     "prompt_number": 1
    },
    {
     "cell_type": "code",
     "collapsed": false,
     "input": [
      "#Question 1\n",
      "n = 9\n",
      "x_bar = 1100\n",
      "sigma = 30\n",
      "alpha = 0.05\n",
      "\n",
      "intervals = np.array([-1, 1]) * t_val(alpha, n - 1) * sigma * np.sqrt(1/n)\n",
      "x_bar + np.round(intervals, 0)"
     ],
     "language": "python",
     "metadata": {},
     "outputs": [
      {
       "metadata": {},
       "output_type": "pyout",
       "prompt_number": 2,
       "text": [
        "array([ 1077.,  1123.])"
       ]
      }
     ],
     "prompt_number": 2
    },
    {
     "cell_type": "code",
     "collapsed": false,
     "input": [
      "#Question 2\n",
      "n = 9\n",
      "x_bar = -2\n",
      "right_bound = 0 - x_bar\n",
      "alpha = 0.05\n",
      "\n",
      "sigma_x = np.sqrt(n) * right_bound / t_val(alpha, n-1)\n",
      "round(sigma_x, 2)"
     ],
     "language": "python",
     "metadata": {},
     "outputs": [
      {
       "metadata": {},
       "output_type": "pyout",
       "prompt_number": 3,
       "text": [
        "2.6"
       ]
      }
     ],
     "prompt_number": 3
    },
    {
     "cell_type": "code",
     "collapsed": false,
     "input": [
      "#Question 3\n",
      "# A paired interval"
     ],
     "language": "python",
     "metadata": {},
     "outputs": [],
     "prompt_number": 4
    },
    {
     "cell_type": "code",
     "collapsed": false,
     "input": [
      "#Question 4\n",
      "nx = 10 #new\n",
      "ny = 10 #old\n",
      "x_bar, var_x = 3, 0.6\n",
      "y_bar, var_y = 5, 0.68\n",
      "alpha = 0.05\n",
      "\n",
      "sigma_xy = calc_sigma_xy(nx, ny, var_x, var_y)\n",
      "intervals = confidence_intervals(alpha, nx, ny, sigma_xy)\n",
      "(x_bar - y_bar) + np.round(intervals, 2)"
     ],
     "language": "python",
     "metadata": {},
     "outputs": [
      {
       "metadata": {},
       "output_type": "pyout",
       "prompt_number": 5,
       "text": [
        "array([-2.75, -1.25])"
       ]
      }
     ],
     "prompt_number": 5
    },
    {
     "cell_type": "code",
     "collapsed": false,
     "input": [
      "#Question 5\n",
      "#The interval will be narrower."
     ],
     "language": "python",
     "metadata": {},
     "outputs": [],
     "prompt_number": 6
    },
    {
     "cell_type": "code",
     "collapsed": false,
     "input": [
      "#Question 6\n",
      "nx = 100 #new\n",
      "ny = 100 #old\n",
      "x_bar, sigma_x = 6, 2.0\n",
      "y_bar, sigma_y = 4, 0.5\n",
      "alpha = 0.05\n",
      "\n",
      "sigma_xy = calc_sigma_xy(nx, ny, sigma_x**2, sigma_y**2)\n",
      "intervals = confidence_intervals(alpha, nx, ny, sigma_xy)\n",
      "(x_bar - y_bar) + np.round(intervals, 2) #The new system appears to be effective."
     ],
     "language": "python",
     "metadata": {},
     "outputs": [
      {
       "metadata": {},
       "output_type": "pyout",
       "prompt_number": 9,
       "text": [
        "array([ 1.59,  2.41])"
       ]
      }
     ],
     "prompt_number": 9
    },
    {
     "cell_type": "code",
     "collapsed": false,
     "input": [
      "#Question 7\n",
      "nx = 9\n",
      "ny = 9\n",
      "x_bar = -3\n",
      "y_bar = 1\n",
      "sigma_x = 1.5\n",
      "sigma_y = 1.8\n",
      "alpha = 0.1\n",
      "\n",
      "sigma_xy = calc_sigma_xy(nx, ny, sigma_x**2, sigma_y**2)\n",
      "intervals = confidence_intervals(alpha, nx, ny, sigma_xy)\n",
      "(x_bar - y_bar) + np.round(intervals, 3)"
     ],
     "language": "python",
     "metadata": {},
     "outputs": [
      {
       "metadata": {},
       "output_type": "pyout",
       "prompt_number": 8,
       "text": [
        "array([-5.364, -2.636])"
       ]
      }
     ],
     "prompt_number": 8
    }
   ],
   "metadata": {}
  }
 ]
}